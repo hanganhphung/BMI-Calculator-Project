{
 "cells": [
  {
   "cell_type": "code",
   "execution_count": 2,
   "id": "83573df5",
   "metadata": {},
   "outputs": [
    {
     "name": "stdout",
     "output_type": "stream",
     "text": [
      "Enter you name: vivi\n",
      "Enter your weight in pounds: 110\n",
      "Enter your height in inches: 57\n",
      "23.801169590643276\n",
      "vivi, you are normal weight with minimal health risk.\n"
     ]
    }
   ],
   "source": [
    "name = input(\"Enter you name: \")\n",
    "\n",
    "weight = int(input(\"Enter your weight in pounds: \"))\n",
    "\n",
    "height = int(input(\"Enter your height in inches: \"))\n",
    "\n",
    "BMI = (weight * 703) / (height * height)\n",
    "\n",
    "print(BMI)\n",
    "\n",
    "if BMI>0:\n",
    "    if(BMI<18.5):\n",
    "        print(name +\", you are underwight with minimal health risk.\")\n",
    "    elif (BMI<=24.9):\n",
    "        print(name +\", you are normal weight with minimal health risk.\")\n",
    "    elif (BMI<29.9):\n",
    "        print(name +\", you are overweight with increased health risk.\")\n",
    "    elif (BMI<34.9):\n",
    "        print(name +\", you are obese with high health risk.\")\n",
    "    elif (BMI<39.9):\n",
    "        print(name +\", you are severely obese with very high health risk.\")\n",
    "    else:\n",
    "        print(name +\", you are morbidly obese with extremely high health risk.\")\n",
    "else:\n",
    "    print(\"Enter valid input\")"
   ]
  },
  {
   "cell_type": "code",
   "execution_count": null,
   "id": "1221c61d",
   "metadata": {},
   "outputs": [],
   "source": []
  }
 ],
 "metadata": {
  "kernelspec": {
   "display_name": "Python 3 (ipykernel)",
   "language": "python",
   "name": "python3"
  },
  "language_info": {
   "codemirror_mode": {
    "name": "ipython",
    "version": 3
   },
   "file_extension": ".py",
   "mimetype": "text/x-python",
   "name": "python",
   "nbconvert_exporter": "python",
   "pygments_lexer": "ipython3",
   "version": "3.10.9"
  }
 },
 "nbformat": 4,
 "nbformat_minor": 5
}
